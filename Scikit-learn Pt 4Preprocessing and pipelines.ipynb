{
  "cells": [
    {
      "cell_type": "markdown",
      "metadata": {
        "id": "fqwGcPIP7lJ-"
      },
      "source": [
        "**Exercise**\n",
        "\n",
        "# Exploring categorical features\n",
        "\n",
        "The Gapminder dataset that you worked with in previous chapters also contained a categorical `'Region'` feature, which we dropped in previous exercises since you did not have the tools to deal with it. Now however, you do, so we have added it back in!\n",
        "\n",
        "Your job in this exercise is to explore this feature. Boxplots are particularly useful for visualizing categorical features such as this.\n",
        "\n",
        "**Instruction**\n",
        "\n",
        "- Import `pandas` as `pd`.\n",
        "- Read the CSV file `'gapminder.csv'` into a DataFrame called `df`.\n",
        "- Use pandas to create a boxplot showing the variation of life expectancy (`'life'`) by region (`'Region'`). To do so, pass the column names in to `df.boxplot()` (in that order)."
      ]
    },
    {
      "cell_type": "code",
      "execution_count": 1,
      "metadata": {
        "colab": {
          "base_uri": "https://localhost:8080/"
        },
        "id": "de2MH1s07lKA",
        "outputId": "73dc6707-13cb-4fbb-ebd1-f4ccbeb0d69a"
      },
      "outputs": [
        {
          "output_type": "execute_result",
          "data": {
            "text/plain": [
              "('gapminder.csv', <http.client.HTTPMessage at 0x7f2497efe390>)"
            ]
          },
          "metadata": {},
          "execution_count": 1
        }
      ],
      "source": [
        "import matplotlib.pyplot as plt\n",
        "plt.style.use('ggplot')\n",
        "from urllib.request import urlretrieve\n",
        "fn = 'https://s3.amazonaws.com/assets.datacamp.com/production/course_1939/datasets/gm_2008_region.csv'\n",
        "urlretrieve(fn, 'gapminder.csv')\n"
      ]
    },
    {
      "cell_type": "code",
      "execution_count": 2,
      "metadata": {
        "colab": {
          "base_uri": "https://localhost:8080/",
          "height": 468
        },
        "id": "tyAbhJDO7lKC",
        "outputId": "bf6c5c23-a43a-4451-a37f-a4ff3d7d08f6"
      },
      "outputs": [
        {
          "output_type": "stream",
          "name": "stderr",
          "text": [
            "/usr/local/lib/python3.7/dist-packages/matplotlib/cbook/__init__.py:1376: VisibleDeprecationWarning: Creating an ndarray from ragged nested sequences (which is a list-or-tuple of lists-or-tuples-or ndarrays with different lengths or shapes) is deprecated. If you meant to do this, you must specify 'dtype=object' when creating the ndarray.\n",
            "  X = np.atleast_1d(X.T if isinstance(X, np.ndarray) else np.asarray(X))\n"
          ]
        },
        {
          "output_type": "display_data",
          "data": {
            "text/plain": [
              "<Figure size 432x288 with 1 Axes>"
            ],
            "image/png": "[encoded data removed]"
          },
          "metadata": {
            "needs_background": "light"
          }
        }
      ],
      "source": [
        "# Import pandas\n",
        "import pandas as pd\n",
        "\n",
        "# Read 'gapminder.csv' into a DataFrame: df\n",
        "df = pd.read_csv('gapminder.csv')\n",
        "\n",
        "# Create a boxplot of life expectancy per region\n",
        "df.boxplot('life', 'Region', rot=60)\n",
        "\n",
        "# Show the plot\n",
        "plt.show()\n"
      ]
    },
    {
      "cell_type": "markdown",
      "metadata": {
        "id": "QtnDV0iJ7lKC"
      },
      "source": [
        "**Exercise**\n",
        "\n",
        "# Creating dummy variables\n",
        "\n",
        "As Andy discussed in the video, scikit-learn does not accept non-numerical features. You saw in the previous exercise that the `'Region'` feature contains very useful information that can predict life expectancy. For example, Sub-Saharan Africa has a lower life expectancy compared to Europe and Central Asia. Therefore, if you are trying to predict life expectancy, it would be preferable to retain the `'Region'` feature. To do this, you need to binarize it by creating dummy variables, which is what you will do in this exercise.\n",
        "\n",
        "**Instruction**\n",
        "\n",
        "- Use the pandas `get_dummies()` function to create dummy variables from the `df` DataFrame. Store the result as `df_region`.\n",
        "- Print the columns of `df_region`. This has been done for you.\n",
        "- Use the `get_dummies()` function again, this time specifying `drop_first=True` to drop the unneeded dummy variable (in this case, `'Region_America'`).\n",
        "- Hit 'Submit Answer to print the new columns of `df_region` and take note of how one column was dropped!"
      ]
    },
    {
      "cell_type": "code",
      "execution_count": 3,
      "metadata": {
        "colab": {
          "base_uri": "https://localhost:8080/"
        },
        "id": "A0m0lfoC7lKD",
        "outputId": "76eea2f6-4407-460f-e051-41d3aa139b4b"
      },
      "outputs": [
        {
          "output_type": "stream",
          "name": "stdout",
          "text": [
            "Index(['population', 'fertility', 'HIV', 'CO2', 'BMI_male', 'GDP',\n",
            "       'BMI_female', 'life', 'child_mortality', 'Region_America',\n",
            "       'Region_East Asia & Pacific', 'Region_Europe & Central Asia',\n",
            "       'Region_Middle East & North Africa', 'Region_South Asia',\n",
            "       'Region_Sub-Saharan Africa'],\n",
            "      dtype='object')\n",
            "Index(['population', 'fertility', 'HIV', 'CO2', 'BMI_male', 'GDP',\n",
            "       'BMI_female', 'life', 'child_mortality', 'Region_East Asia & Pacific',\n",
            "       'Region_Europe & Central Asia', 'Region_Middle East & North Africa',\n",
            "       'Region_South Asia', 'Region_Sub-Saharan Africa'],\n",
            "      dtype='object')\n"
          ]
        }
      ],
      "source": [
        "# Create dummy variables: df_region\n",
        "df_region = pd.get_dummies(df)\n",
        "\n",
        "# Print the columns of df_region\n",
        "print(df_region.columns)\n",
        "\n",
        "# Create dummy variables with drop_first=True: df_region\n",
        "df_region = pd.get_dummies(df, drop_first=True)\n",
        "\n",
        "# Print the new columns of df_region\n",
        "print(df_region.columns)\n"
      ]
    },
    {
      "cell_type": "markdown",
      "metadata": {
        "id": "Ardp2r2K7lKD"
      },
      "source": [
        "**Exercise**\n",
        "\n",
        "# Regression with categorical features\n",
        "\n",
        "Having created the dummy variables from the `'Region'`feature, you can build regression models as you did before. Here, you'll use ridge regression to perform 5-fold cross-validation.\n",
        "\n",
        "The feature array `X` and target variable array `y` have been pre-loaded.\n",
        "\n",
        "**Instruction**\n",
        "\n",
        "- Import `Ridge` from `sklearn.linear_model` and `cross_val_score` from `sklearn.model_selection`.\n",
        "- Instantiate a ridge regressor called `ridge` with `alpha=0.5` and `normalize=True`.\n",
        "- Perform 5-fold cross-validation on `X` and `y` using the `cross_val_score()` function.\n",
        "- Print the cross-validated scores."
      ]
    },
    {
      "cell_type": "code",
      "execution_count": 4,
      "metadata": {
        "id": "CUclbLvd7lKE"
      },
      "outputs": [],
      "source": [
        "# modified/added by Jinny\n",
        "import pandas as pd\n",
        "import numpy as np\n",
        "\n",
        "from urllib.request import urlretrieve\n",
        "\n",
        "fn = 'https://s3.amazonaws.com/assets.datacamp.com/production/course_1939/datasets/gm_2008_region.csv'\n",
        "urlretrieve(fn, 'gapminder.csv')\n",
        "\n",
        "df = pd.read_csv('gapminder.csv')\n",
        "\n",
        "df_region = pd.get_dummies(df)\n",
        "\n",
        "df_region = df_region.drop('Region_America', axis=1)\n",
        "\n",
        "X = df_region.drop('life', axis=1).values\n",
        "\n",
        "y = df_region['life'].values\n"
      ]
    },
    {
      "cell_type": "code",
      "execution_count": 5,
      "metadata": {
        "colab": {
          "base_uri": "https://localhost:8080/"
        },
        "id": "McNsEH8k7lKE",
        "outputId": "8598871e-20f4-4d9f-e28d-1802bd34811a"
      },
      "outputs": [
        {
          "output_type": "stream",
          "name": "stdout",
          "text": [
            "[0.86808336 0.80623545 0.84004203 0.7754344  0.87503712]\n"
          ]
        },
        {
          "output_type": "stream",
          "name": "stderr",
          "text": [
            "/usr/local/lib/python3.7/dist-packages/sklearn/linear_model/_base.py:145: FutureWarning: 'normalize' was deprecated in version 1.0 and will be removed in 1.2.\n",
            "If you wish to scale the data, use Pipeline with a StandardScaler in a preprocessing stage. To reproduce the previous behavior:\n",
            "\n",
            "from sklearn.pipeline import make_pipeline\n",
            "\n",
            "model = make_pipeline(StandardScaler(with_mean=False), Ridge())\n",
            "\n",
            "If you wish to pass a sample_weight parameter, you need to pass it as a fit parameter to each step of the pipeline as follows:\n",
            "\n",
            "kwargs = {s[0] + '__sample_weight': sample_weight for s in model.steps}\n",
            "model.fit(X, y, **kwargs)\n",
            "\n",
            "Set parameter alpha to: original_alpha * n_samples. \n",
            "  FutureWarning,\n",
            "/usr/local/lib/python3.7/dist-packages/sklearn/linear_model/_base.py:145: FutureWarning: 'normalize' was deprecated in version 1.0 and will be removed in 1.2.\n",
            "If you wish to scale the data, use Pipeline with a StandardScaler in a preprocessing stage. To reproduce the previous behavior:\n",
            "\n",
            "from sklearn.pipeline import make_pipeline\n",
            "\n",
            "model = make_pipeline(StandardScaler(with_mean=False), Ridge())\n",
            "\n",
            "If you wish to pass a sample_weight parameter, you need to pass it as a fit parameter to each step of the pipeline as follows:\n",
            "\n",
            "kwargs = {s[0] + '__sample_weight': sample_weight for s in model.steps}\n",
            "model.fit(X, y, **kwargs)\n",
            "\n",
            "Set parameter alpha to: original_alpha * n_samples. \n",
            "  FutureWarning,\n",
            "/usr/local/lib/python3.7/dist-packages/sklearn/linear_model/_base.py:145: FutureWarning: 'normalize' was deprecated in version 1.0 and will be removed in 1.2.\n",
            "If you wish to scale the data, use Pipeline with a StandardScaler in a preprocessing stage. To reproduce the previous behavior:\n",
            "\n",
            "from sklearn.pipeline import make_pipeline\n",
            "\n",
            "model = make_pipeline(StandardScaler(with_mean=False), Ridge())\n",
            "\n",
            "If you wish to pass a sample_weight parameter, you need to pass it as a fit parameter to each step of the pipeline as follows:\n",
            "\n",
            "kwargs = {s[0] + '__sample_weight': sample_weight for s in model.steps}\n",
            "model.fit(X, y, **kwargs)\n",
            "\n",
            "Set parameter alpha to: original_alpha * n_samples. \n",
            "  FutureWarning,\n",
            "/usr/local/lib/python3.7/dist-packages/sklearn/linear_model/_base.py:145: FutureWarning: 'normalize' was deprecated in version 1.0 and will be removed in 1.2.\n",
            "If you wish to scale the data, use Pipeline with a StandardScaler in a preprocessing stage. To reproduce the previous behavior:\n",
            "\n",
            "from sklearn.pipeline import make_pipeline\n",
            "\n",
            "model = make_pipeline(StandardScaler(with_mean=False), Ridge())\n",
            "\n",
            "If you wish to pass a sample_weight parameter, you need to pass it as a fit parameter to each step of the pipeline as follows:\n",
            "\n",
            "kwargs = {s[0] + '__sample_weight': sample_weight for s in model.steps}\n",
            "model.fit(X, y, **kwargs)\n",
            "\n",
            "Set parameter alpha to: original_alpha * n_samples. \n",
            "  FutureWarning,\n",
            "/usr/local/lib/python3.7/dist-packages/sklearn/linear_model/_base.py:145: FutureWarning: 'normalize' was deprecated in version 1.0 and will be removed in 1.2.\n",
            "If you wish to scale the data, use Pipeline with a StandardScaler in a preprocessing stage. To reproduce the previous behavior:\n",
            "\n",
            "from sklearn.pipeline import make_pipeline\n",
            "\n",
            "model = make_pipeline(StandardScaler(with_mean=False), Ridge())\n",
            "\n",
            "If you wish to pass a sample_weight parameter, you need to pass it as a fit parameter to each step of the pipeline as follows:\n",
            "\n",
            "kwargs = {s[0] + '__sample_weight': sample_weight for s in model.steps}\n",
            "model.fit(X, y, **kwargs)\n",
            "\n",
            "Set parameter alpha to: original_alpha * n_samples. \n",
            "  FutureWarning,\n"
          ]
        }
      ],
      "source": [
        "# Import necessary modules\n",
        "from sklearn.linear_model import Ridge\n",
        "from sklearn.model_selection import cross_val_score\n",
        "\n",
        "# Instantiate a ridge regressor: ridge\n",
        "ridge = Ridge(alpha=0.5, normalize=True)\n",
        "\n",
        "# Perform 5-fold cross-validation: ridge_cv\n",
        "ridge_cv = cross_val_score(ridge, X, y, cv=5)\n",
        "\n",
        "# Print the cross-validated scores\n",
        "print(ridge_cv)\n"
      ]
    },
    {
      "cell_type": "markdown",
      "metadata": {
        "id": "nHXVisK07lKE"
      },
      "source": [
        "**Exercise**\n",
        "\n",
        "# Dropping missing data\n",
        "\n",
        "The voting dataset from Chapter 1 contained a bunch of missing values that we dealt with for you behind the scenes. Now, it's time for you to take care of these yourself!\n",
        "\n",
        "The unprocessed dataset has been loaded into a DataFrame `df`. Explore it in the IPython Shell with the `.head()`method. You will see that there are certain data points labeled with a `'?'`. These denote missing values. As you saw in the video, different datasets encode missing values in different ways. Sometimes it may be a `'9999'`, other times a `0` - real-world data can be very messy! If you're lucky, the missing values will already be encoded as `NaN`. We use `NaN`because it is an efficient and simplified way of internally representing missing data, and it lets us take advantage of pandas methods such as `.dropna()` and `.fillna()`, as well as scikit-learn's Imputation transformer `Imputer()`.\n",
        "\n",
        "In this exercise, your job is to convert the `'?'`s to NaNs, and then drop the rows that contain them from the DataFrame.\n",
        "\n",
        "**Instruction**\n",
        "\n",
        "- Explore the DataFrame `df` in the IPython Shell. Notice how the missing value is represented.\n",
        "- Convert all `'?'` data points to `np.nan`.\n",
        "- Count the total number of NaNs using the `.isnull()` and `.sum()` methods. This has been done for you.\n",
        "- Drop the rows with missing values from `df` using `.dropna()`.\n",
        "- Hit 'Submit Answer' to see how many rows were lost by dropping the missing values."
      ]
    },
    {
      "cell_type": "code",
      "execution_count": 6,
      "metadata": {
        "id": "CAqMMRAe7lKF"
      },
      "outputs": [],
      "source": [
        "# modified/added by Jinny\n",
        "import numpy as np\n",
        "import pandas as pd\n",
        "df = pd.read_csv('https://s3.amazonaws.com/assets.datacamp.com/production/course_1939/datasets/house-votes-84.csv',\n",
        " header=None, names = ['infants', 'water', 'budget', 'physician', 'salvador', 'religious',\n",
        " 'satellite', 'aid', 'missile', 'immigration', 'synfuels', 'education',\n",
        " 'superfund', 'crime', 'duty_free_exports', 'eaa_rsa'])\n",
        "\n",
        "df = df.reset_index()\n",
        "df.rename(columns = {'index': 'party'}, inplace = True)\n",
        "\n",
        "df[df == 'y'] = 1\n",
        "df[df == 'n'] = 0"
      ]
    },
    {
      "cell_type": "code",
      "execution_count": 7,
      "metadata": {
        "colab": {
          "base_uri": "https://localhost:8080/"
        },
        "id": "ZtD3J02b7lKF",
        "outputId": "5b5117bc-5d0f-4701-fa89-5b5d2e049674"
      },
      "outputs": [
        {
          "output_type": "stream",
          "name": "stdout",
          "text": [
            "party                  0\n",
            "infants               12\n",
            "water                 48\n",
            "budget                11\n",
            "physician             11\n",
            "salvador              15\n",
            "religious             11\n",
            "satellite             14\n",
            "aid                   15\n",
            "missile               22\n",
            "immigration            7\n",
            "synfuels              21\n",
            "education             31\n",
            "superfund             25\n",
            "crime                 17\n",
            "duty_free_exports     28\n",
            "eaa_rsa              104\n",
            "dtype: int64\n",
            "Shape of Original DataFrame: (435, 17)\n",
            "Shape of DataFrame After Dropping All Rows with Missing Values: (232, 17)\n"
          ]
        }
      ],
      "source": [
        "# Convert '?' to NaN\n",
        "df[df == '?'] = np.nan\n",
        "\n",
        "# Print the number of NaNs\n",
        "print(df.isnull().sum())\n",
        "\n",
        "# Print shape of original DataFrame\n",
        "print(\"Shape of Original DataFrame: {}\".format(df.shape))\n",
        "\n",
        "# Drop missing values and print shape of new DataFrame\n",
        "df = df.dropna()\n",
        "\n",
        "# Print shape of new DataFrame\n",
        "print(\"Shape of DataFrame After Dropping All Rows with Missing Values: {}\".format(df.shape))\n"
      ]
    },
    {
      "cell_type": "markdown",
      "metadata": {
        "id": "4al-BNxJ7lKG"
      },
      "source": [
        "**Exercise**\n",
        "\n",
        "# Imputing missing data in a ML Pipeline I\n",
        "\n",
        "As you've come to appreciate, there are many steps to building a model, from creating training and test sets, to fitting a classifier or regressor, to tuning its parameters, to evaluating its performance on new data. Imputation can be seen as the first step of this machine learning process, the entirety of which can be viewed within the context of a pipeline. Scikit-learn provides a pipeline constructor that allows you to piece together these steps into one process and thereby simplify your workflow.\n",
        "\n",
        "You'll now practice setting up a pipeline with two steps: the imputation step, followed by the instantiation of a classifier. You've seen three classifiers in this course so far: k-NN, logistic regression, and the decision tree. You will now be introduced to a fourth one - the Support Vector Machine, or [SVM](http://scikit-learn.org/stable/modules/svm.html). For now, do not worry about how it works under the hood. It works exactly as you would expect of the scikit-learn estimators that you have worked with previously, in that it has the same `.fit()` and `.predict()` methods as before.\n",
        "\n",
        "**Instruction**\n",
        "\n",
        "- Import `Imputer` from `sklearn.preprocessing` and `SVC` from `sklearn.svm`. SVC stands for Support Vector Classification, which is a type of SVM.\n",
        "- Setup the Imputation transformer to impute missing data (represented as `'NaN'`) with the `'most_frequent'`value in the column (`axis=0`).\n",
        "- Instantiate a `SVC` classifier. Store the result in `clf`.\n",
        "- Create the steps of the pipeline by creating a list of tuples:\n",
        "  - The first tuple should consist of the imputation step, using `imp`.\n",
        "  - The second should consist of the classifier."
      ]
    },
    {
      "cell_type": "code",
      "execution_count": 8,
      "metadata": {
        "colab": {
          "base_uri": "https://localhost:8080/",
          "height": 374
        },
        "id": "2MTL1an07lKG",
        "outputId": "c7cb777f-c6c6-4e9f-df47-d29038648c84"
      },
      "outputs": [
        {
          "output_type": "error",
          "ename": "ImportError",
          "evalue": "ignored",
          "traceback": [
            "\u001b[0;31m---------------------------------------------------------------------------\u001b[0m",
            "\u001b[0;31mImportError\u001b[0m                               Traceback (most recent call last)",
            "\u001b[0;32m<ipython-input-8-96f1442d243f>\u001b[0m in \u001b[0;36m<module>\u001b[0;34m()\u001b[0m\n\u001b[1;32m      1\u001b[0m \u001b[0;31m# Import the Imputer module\u001b[0m\u001b[0;34m\u001b[0m\u001b[0;34m\u001b[0m\u001b[0;34m\u001b[0m\u001b[0m\n\u001b[0;32m----> 2\u001b[0;31m \u001b[0;32mfrom\u001b[0m \u001b[0msklearn\u001b[0m\u001b[0;34m.\u001b[0m\u001b[0mpreprocessing\u001b[0m \u001b[0;32mimport\u001b[0m \u001b[0mImputer\u001b[0m\u001b[0;34m\u001b[0m\u001b[0;34m\u001b[0m\u001b[0m\n\u001b[0m\u001b[1;32m      3\u001b[0m \u001b[0;32mfrom\u001b[0m \u001b[0msklearn\u001b[0m\u001b[0;34m.\u001b[0m\u001b[0msvm\u001b[0m \u001b[0;32mimport\u001b[0m \u001b[0mSVC\u001b[0m\u001b[0;34m\u001b[0m\u001b[0;34m\u001b[0m\u001b[0m\n\u001b[1;32m      4\u001b[0m \u001b[0;34m\u001b[0m\u001b[0m\n\u001b[1;32m      5\u001b[0m \u001b[0;31m# Setup the Imputation transformer: imp\u001b[0m\u001b[0;34m\u001b[0m\u001b[0;34m\u001b[0m\u001b[0;34m\u001b[0m\u001b[0m\n",
            "\u001b[0;31mImportError\u001b[0m: cannot import name 'Imputer' from 'sklearn.preprocessing' (/usr/local/lib/python3.7/dist-packages/sklearn/preprocessing/__init__.py)",
            "",
            "\u001b[0;31m---------------------------------------------------------------------------\u001b[0;32m\nNOTE: If your import is failing due to a missing package, you can\nmanually install dependencies using either !pip or !apt.\n\nTo view examples of installing some common dependencies, click the\n\"Open Examples\" button below.\n\u001b[0;31m---------------------------------------------------------------------------\u001b[0m\n"
          ],
          "errorDetails": {
            "actions": [
              {
                "action": "open_url",
                "actionText": "Open Examples",
                "url": "/notebooks/snippets/importing_libraries.ipynb"
              }
            ]
          }
        }
      ],
      "source": [
        "# Import the Imputer module\n",
        "from sklearn.preprocessing import Imputer\n",
        "from sklearn.svm import SVC\n",
        "\n",
        "# Setup the Imputation transformer: imp\n",
        "imp = Imputer(missing_values='NaN', strategy='most_frequent', axis=0)\n",
        "\n",
        "# Instantiate the SVC classifier: clf\n",
        "clf = SVC()\n",
        "\n",
        "# Setup the pipeline with the required steps: steps\n",
        "steps = [('imputation', imp),\n",
        "        ('SVM', clf)]"
      ]
    },
    {
      "cell_type": "markdown",
      "metadata": {
        "id": "R4m85rye7lKH"
      },
      "source": [
        "**Exercise**\n",
        "\n",
        "# Imputing missing data in a ML Pipeline II\n",
        "\n",
        "Having setup the steps of the pipeline in the previous exercise, you will now use it on the voting dataset to classify a Congressman's party affiliation. What makes pipelines so incredibly useful is the simple interface that they provide. You can use the `.fit()` and `.predict()` methods on pipelines just as you did with your classifiers and regressors!\n",
        "\n",
        "Practice this for yourself now and generate a classification report of your predictions. The steps of the pipeline have been set up for you, and the feature array `X` and target variable array `y` have been pre-loaded. Additionally, `train_test_split` and `classification_report` have been imported from `sklearn.model_selection` and `sklearn.metrics` respectively.\n",
        "\n",
        "**Instruction**\n",
        "\n",
        "- Import the following modules:\n",
        "  - `Imputer` from `sklearn.preprocessing` and `Pipeline` from `sklearn.pipeline`.\n",
        "  - `SVC` from `sklearn.svm`.\n",
        "- Create the pipeline using `Pipeline()` and `steps`.\n",
        "- Create training and test sets. Use 30% of the data for testing and a random state of `42`.\n",
        "- Fit the pipeline to the training set and predict the labels of the test set.\n",
        "- Compute the classification report."
      ]
    },
    {
      "cell_type": "code",
      "execution_count": null,
      "metadata": {
        "id": "_e-v_WDv7lKH"
      },
      "outputs": [],
      "source": [
        "# modified/added by Jinny\n",
        "import pandas as pd\n",
        "import numpy as np\n",
        "#\n",
        "df = pd.read_csv('https://s3.amazonaws.com/assets.datacamp.com/production/course_1939/datasets/votes-ch1.csv')\n",
        "# Create arrays for the features and the response variable. As a reminder, the response variable is 'party'\n",
        "y = df['party']\n",
        "X = df.drop('party', axis=1)\n",
        "\n",
        "from sklearn.model_selection import train_test_split\n",
        "from sklearn.metrics import classification_report"
      ]
    },
    {
      "cell_type": "code",
      "execution_count": null,
      "metadata": {
        "id": "Kn_1qeP17lKI"
      },
      "outputs": [],
      "source": [
        "# Import necessary modules\n",
        "from sklearn.preprocessing import Imputer\n",
        "from sklearn.pipeline import Pipeline\n",
        "from sklearn.svm import SVC\n",
        "\n",
        "# Setup the pipeline steps: steps\n",
        "steps = [('imputation', Imputer(missing_values='NaN', strategy='most_frequent', axis=0)),\n",
        "        ('SVM', SVC())]\n",
        "\n",
        "# Create the pipeline: pipeline\n",
        "pipeline = Pipeline(steps)\n",
        "\n",
        "# Create training and test sets\n",
        "X_train, X_test, y_train, y_test = train_test_split(X, y, test_size=0.3, random_state=42)\n",
        "\n",
        "# Fit the pipeline to the train set\n",
        "pipeline.fit(X_train, y_train)\n",
        "\n",
        "# Predict the labels of the test set\n",
        "y_pred = pipeline.predict(X_test)\n",
        "\n",
        "# Compute metrics\n",
        "print(classification_report(y_test, y_pred))\n"
      ]
    },
    {
      "cell_type": "markdown",
      "metadata": {
        "id": "MabxumtC7lKI"
      },
      "source": [
        "**Exercise**\n",
        "\n",
        "# Centering and scaling your data\n",
        "\n",
        "In the video, Hugo demonstrated how significantly the performance of a model can improve if the features are scaled. Note that this is not always the case: In the Congressional voting records dataset, for example, all of the features are binary. In such a situation, scaling will have minimal impact.\n",
        "\n",
        "You will now explore scaling for yourself on a new dataset - [White Wine Quality](https://archive.ics.uci.edu/ml/datasets/Wine+Quality)! Hugo used the Red Wine Quality dataset in the video. We have used the `'quality'` feature of the wine to create a binary target variable: If `'quality'`is less than `5`, the target variable is `1`, and otherwise, it is `0`.\n",
        "\n",
        "The DataFrame has been pre-loaded as `df`, along with the feature and target variable arrays `X` and `y`. Explore it in the IPython Shell. Notice how some features seem to have different units of measurement. `'density'`, for instance, takes values between 0.98 and 1.04, while `'total sulfur dioxide'` ranges from 9 to 440. As a result, it may be worth scaling the features here. Your job in this exercise is to scale the features and compute the mean and standard deviation of the unscaled features compared to the scaled features.\n",
        "\n",
        "**Instruction**\n",
        "\n",
        "- Import `scale` from `sklearn.preprocessing`.\n",
        "- Scale the features `X` using `scale()`.\n",
        "- Print the mean and standard deviation of the unscaled features `X`, and then the scaled features `X_scaled`. Use the numpy functions `np.mean()` and `np.std()` to compute the mean and standard deviations.\n",
        "- Compute the classification report.\n"
      ]
    },
    {
      "cell_type": "code",
      "execution_count": null,
      "metadata": {
        "id": "l9b1e8cG7lKJ"
      },
      "outputs": [],
      "source": [
        "# modified/added by Jinny\n",
        "import pandas as pd\n",
        "import numpy as np\n",
        "df = pd.read_csv('https://s3.amazonaws.com/assets.datacamp.com/production/course_3238/datasets/white-wine.csv')\n",
        "X = df.drop('quality' , 1).values # drop target variable\n",
        "y1 = df['quality'].values\n",
        "y = y1 <= 5\n"
      ]
    },
    {
      "cell_type": "code",
      "execution_count": null,
      "metadata": {
        "id": "kFPyMOqd7lKJ"
      },
      "outputs": [],
      "source": [
        "# Import scale\n",
        "from sklearn.preprocessing import scale\n",
        "\n",
        "# Scale the features: X_scaled\n",
        "X_scaled = scale(X)\n",
        "\n",
        "# Print the mean and standard deviation of the unscaled features\n",
        "print(\"Mean of Unscaled Features: {}\".format(np.mean(X))) \n",
        "print(\"Standard Deviation of Unscaled Features: {}\".format(np.std(X)))\n",
        "\n",
        "# Print the mean and standard deviation of the scaled features\n",
        "print(\"Mean of Scaled Features: {}\".format(np.mean(X_scaled))) \n",
        "print(\"Standard Deviation of Scaled Features: {}\".format(np.std(X_scaled)))"
      ]
    },
    {
      "cell_type": "markdown",
      "metadata": {
        "id": "y7Cx09e97lKJ"
      },
      "source": [
        "**Exercise**\n",
        "\n",
        "# Centering and scaling in a pipeline\n",
        "\n",
        "With regard to whether or not scaling is effective, the proof is in the pudding! See for yourself whether or not scaling the features of the White Wine Quality dataset has any impact on its performance. You will use a k-NN classifier as part of a pipeline that includes scaling, and for the purposes of comparison, a k-NN classifier trained on the unscaled data has been provided.\n",
        "\n",
        "The feature array and target variable array have been pre-loaded as `X` and `y`. Additionally, `KNeighborsClassifier` and `train_test_split` have been imported from `sklearn.neighbors` and `sklearn.model_selection`, respectively.\n",
        "\n",
        "**Instruction**\n",
        "\n",
        "- Import the following modules:\n",
        "  - `StandardScaler` from `sklearn.preprocessing`.\n",
        "  - `Pipeline` from `sklearn.pipeline`.\n",
        "- Complete the steps of the pipeline with `StandardScaler()` for `'scaler'` and `KNeighborsClassifier()` for `'knn'`.\n",
        "- Create the pipeline using `Pipeline()` and `steps`.\n",
        "- Create training and test sets, with 30% used for testing. Use a random state of `42`.\n",
        "- Fit the pipeline to the training set.\n",
        "- Compute the accuracy scores of the scaled and unscaled models by using the `.score()` method inside the provided `print()` functions."
      ]
    },
    {
      "cell_type": "code",
      "execution_count": null,
      "metadata": {
        "id": "eY_1tXpg7lKJ"
      },
      "outputs": [],
      "source": [
        "# modified/added by Jinny\n",
        "import pandas as pd\n",
        "df = pd.read_csv('https://s3.amazonaws.com/assets.datacamp.com/production/course_3238/datasets/white-wine.csv')\n",
        "X = df.drop('quality' , 1).values # drop target variable\n",
        "y1 = df['quality'].values\n",
        "y = y1 <= 5\n",
        "\n",
        "from sklearn.model_selection import train_test_split\n",
        "from sklearn.neighbors import KNeighborsClassifier \n"
      ]
    },
    {
      "cell_type": "code",
      "execution_count": null,
      "metadata": {
        "id": "9KOyx_Ai7lKK"
      },
      "outputs": [],
      "source": [
        "# Import the necessary modules\n",
        "from sklearn.preprocessing import StandardScaler\n",
        "from sklearn.pipeline import Pipeline\n",
        "\n",
        "# Setup the pipeline steps: steps\n",
        "steps = [('scaler', StandardScaler()),\n",
        "        ('knn', KNeighborsClassifier())]\n",
        "        \n",
        "# Create the pipeline: pipeline\n",
        "pipeline = Pipeline(steps)\n",
        "\n",
        "# Create train and test sets\n",
        "X_train, X_test, y_train, y_test = train_test_split(X, y, test_size=0.3, random_state=42)\n",
        "\n",
        "# Fit the pipeline to the training set: knn_scaled\n",
        "knn_scaled = pipeline.fit(X_train, y_train)\n",
        "\n",
        "# Instantiate and fit a k-NN classifier to the unscaled data\n",
        "knn_unscaled = KNeighborsClassifier().fit(X_train, y_train)\n",
        "\n",
        "# Compute and print metrics\n",
        "print('Accuracy with Scaling: {}'.format(knn_scaled.score(X_test, y_test)))\n",
        "print('Accuracy without Scaling: {}'.format(knn_unscaled.score(X_test, y_test)))\n"
      ]
    },
    {
      "cell_type": "markdown",
      "metadata": {
        "id": "ve3HF5Tf7lKK"
      },
      "source": [
        "**Exercise**\n",
        "\n",
        "# Bringing it all together I: Pipeline for classification\n",
        "\n",
        "It is time now to piece together everything you have learned so far into a pipeline for classification! Your job in this exercise is to build a pipeline that includes scaling and hyperparameter tuning to classify wine quality.\n",
        "\n",
        "You'll return to using the SVM classifier you were briefly introduced to earlier in this chapter. The hyperparameters you will tune are $C$ and gammagamma. $C$ controls the regularization strength. It is analogous to the $C$ you tuned for logistic regression in Chapter 3, while gammagamma controls the kernel coefficient: Do not worry about this now as it is beyond the scope of this course.\n",
        "\n",
        "The following modules have been pre-loaded: `Pipeline`, `svm`, `train_test_split`, `GridSearchCV`, `classification_report`, `accuracy_score`. The feature and target variable arrays `X` and `y` have also been pre-loaded.\n",
        "\n",
        "**Instruction**\n",
        "\n",
        "- Setup the pipeline with the following steps:\n",
        "  - Scaling, called `'scaler'` with `StandardScaler()`.\n",
        "  - Classification, called `'SVM'` with `SVC()`.\n",
        "- Specify the hyperparameter space using the following notation: `'step_name__parameter_name'`. Here, the `step_name` is `SVM`, and the `parameter_name`s are `C` and `gamma`.\n",
        "- Create training and test sets, with 20% of the data used for the test set. Use a random state of `21`.\n",
        "- Instantiate `GridSearchCV` with the pipeline and hyperparameter space and fit it to the training set. Use 3-fold cross-validation (This is the default, so you don't have to specify it).\n",
        "- Predict the labels of the test set and compute the metrics. The metrics have been computed for you."
      ]
    },
    {
      "cell_type": "code",
      "execution_count": null,
      "metadata": {
        "id": "AnmTwY877lKK"
      },
      "outputs": [],
      "source": [
        "# modified/added by Jinny\n",
        "import pandas as pd\n",
        "df = pd.read_csv('https://s3.amazonaws.com/assets.datacamp.com/production/course_3238/datasets/white-wine.csv')\n",
        "X = df.drop('quality' , 1).values # drop target variable\n",
        "y1 = df['quality'].values\n",
        "y = y1 <= 5\n",
        "import matplotlib.pyplot as plt\n",
        "\n",
        "from sklearn.preprocessing import StandardScaler\n",
        "\n",
        "from sklearn.model_selection import train_test_split\n",
        "from sklearn.pipeline import Pipeline\n",
        "from sklearn.metrics import accuracy_score\n",
        "from sklearn.metrics import classification_report\n",
        "from sklearn.model_selection import GridSearchCV\n",
        "from sklearn.svm import SVC"
      ]
    },
    {
      "cell_type": "code",
      "execution_count": null,
      "metadata": {
        "id": "BYxJIV-B7lKL"
      },
      "outputs": [],
      "source": [
        "# Setup the pipeline\n",
        "steps = [('scaler', StandardScaler()),\n",
        "         ('SVM', SVC())]\n",
        "\n",
        "pipeline = Pipeline(steps)\n",
        "\n",
        "# Specify the hyperparameter space\n",
        "parameters = {'SVM__C':[1, 10, 100],\n",
        "              'SVM__gamma':[0.1, 0.01]}\n",
        "\n",
        "# Create train and test sets\n",
        "X_train, X_test, y_train, y_test = train_test_split(X, y, test_size=0.2, random_state=21)\n",
        "\n",
        "# Instantiate the GridSearchCV object: cv\n",
        "cv = GridSearchCV(pipeline, parameters, cv=3)\n",
        "\n",
        "# Fit to the training set\n",
        "cv.fit(X_train, y_train)\n",
        "\n",
        "# Predict the labels of the test set: y_pred\n",
        "y_pred = cv.predict(X_test)\n",
        "\n",
        "# Compute and print metrics\n",
        "print(\"Accuracy: {}\".format(cv.score(X_test, y_test)))\n",
        "print(classification_report(y_test, y_pred))\n",
        "print(\"Tuned Model Parameters: {}\".format(cv.best_params_))\n"
      ]
    },
    {
      "cell_type": "markdown",
      "metadata": {
        "id": "i0kbw_UK7lKM"
      },
      "source": [
        "**Exercise**\n",
        "\n",
        "# Bringing it all together II: Pipeline for regression\n",
        "\n",
        "For this final exercise, you will return to the Gapminder dataset. Guess what? Even this dataset has missing values that we dealt with for you in earlier chapters! Now, you have all the tools to take care of them yourself!\n",
        "\n",
        "Your job is to build a pipeline that imputes the missing data, scales the features, and fits an ElasticNet to the Gapminder data. You will then tune the `l1_ratio` of your ElasticNet using GridSearchCV.\n",
        "\n",
        "All the necessary modules have been imported, and the feature and target variable arrays have been pre-loaded as `X` and `y`.\n",
        "\n",
        "**Instruction**\n",
        "\n",
        "- Set up a pipeline with the following steps:\n",
        "  - `'imputation'`, which uses the `Imputer()`transformer and the `'mean'` strategy to impute missing data (`'NaN'`) using the mean of the column.\n",
        "  - `'scaler'`, which scales the features using `StandardScaler()`.\n",
        "  - `'elasticnet'`, which instantiates an `ElasticNet()`regressor.\n",
        "- Specify the hyperparameter space for the l1l1 ratio using the following notation: `'step_name__parameter_name'`. Here, the `step_name` is `elasticnet`, and the `parameter_name` is `l1_ratio`.\n",
        "- Create training and test sets, with 40% of the data used for the test set. Use a random state of `42`.\n",
        "- Instantiate `GridSearchCV` with the pipeline and hyperparameter space. Use 3-fold cross-validation (This is the default, so you don't have to specify it).\n",
        "- Fit the `GridSearchCV` object to the training set.\n",
        "- Compute R2R2 and the best parameters. This has been done for you, so hit 'Submit Answer' to see the results!"
      ]
    },
    {
      "cell_type": "code",
      "execution_count": null,
      "metadata": {
        "id": "uzbn1Mk97lKM"
      },
      "outputs": [],
      "source": [
        "# modified/added by Jinny\n",
        "import numpy as np\n",
        "import pandas as pd\n",
        "import matplotlib.pyplot as plt\n",
        "plt.style.use('ggplot')\n",
        "df = pd.read_csv('https://s3.amazonaws.com/assets.datacamp.com/production/course_2433/datasets/gapminder-clean.csv')\n",
        "\n",
        "y = df['life'].values\n",
        "X = df.drop('life', axis=1).values\n",
        "\n",
        "from sklearn.impute import SimpleImputer\n",
        "from sklearn.pipeline import Pipeline\n",
        "from sklearn.model_selection import train_test_split\n",
        "from sklearn.linear_model import ElasticNet\n",
        "from sklearn.metrics import mean_squared_error\n",
        "from sklearn.metrics import r2_score\n",
        "from sklearn.model_selection import GridSearchCV\n",
        "from sklearn.model_selection import train_test_split\n",
        "from sklearn.preprocessing import StandardScaler"
      ]
    },
    {
      "cell_type": "code",
      "execution_count": null,
      "metadata": {
        "id": "5GOQiDu77lKN"
      },
      "outputs": [],
      "source": [
        "# Setup the pipeline steps: steps\n",
        "# modified by Jinny: Imputer -> SimpleImputer\n",
        "steps = [('imputation', SimpleImputer(missing_values=np.nan, strategy='mean')),\n",
        "         ('scaler', StandardScaler()),\n",
        "         ('elasticnet', ElasticNet())]\n",
        "\n",
        "# Create the pipeline: pipeline \n",
        "pipeline = Pipeline(steps)\n",
        "\n",
        "# Specify the hyperparameter space\n",
        "parameters = {'elasticnet__l1_ratio':np.linspace(0,1,30)}\n",
        "\n",
        "# Create train and test sets\n",
        "X_train, X_test, y_train, y_test = train_test_split(X, y, test_size=0.4, random_state=42)\n",
        "\n",
        "# Create the GridSearchCV object: gm_cv\n",
        "gm_cv = GridSearchCV(pipeline, parameters, cv=3)\n",
        "\n",
        "# Fit to the training set\n",
        "gm_cv.fit(X_train, y_train)\n",
        "\n",
        "# Compute and print the metrics\n",
        "r2 = gm_cv.score(X_test, y_test)\n",
        "print(\"Tuned ElasticNet Alpha: {}\".format(gm_cv.best_params_))\n",
        "print(\"Tuned ElasticNet R squared: {}\".format(r2))\n"
      ]
    },
    {
      "cell_type": "code",
      "execution_count": null,
      "metadata": {
        "id": "gx_Vcpzt7lKN"
      },
      "outputs": [],
      "source": [
        ""
      ]
    }
  ],
  "metadata": {
    "kernelspec": {
      "display_name": "Python 3",
      "language": "python",
      "name": "python3"
    },
    "language_info": {
      "codemirror_mode": {
        "name": "ipython",
        "version": 3
      },
      "file_extension": ".py",
      "mimetype": "text/x-python",
      "name": "python",
      "nbconvert_exporter": "python",
      "pygments_lexer": "ipython3",
      "version": "3.7.1"
    },
    "colab": {
      "name": "Preprocessing and pipelines.ipynb",
      "provenance": []
    }
  },
  "nbformat": 4,
  "nbformat_minor": 0
}